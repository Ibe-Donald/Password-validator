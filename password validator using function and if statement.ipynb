{
 "cells": [
  {
   "cell_type": "markdown",
   "id": "4552f735",
   "metadata": {},
   "source": [
    "# password validator using function and if statement"
   ]
  },
  {
   "cell_type": "code",
   "execution_count": null,
   "id": "17e126c5",
   "metadata": {},
   "outputs": [],
   "source": [
    "pw = input(\"Enter your new password: \")\n",
    "rp = input(\"Renter your password for confirmation: \")\n",
    "def confam(pw,rp):\n",
    "    if pw == rp:\n",
    "        print(\"Password Confirmed\")\n",
    "    else:\n",
    "        print(\"You will need to renter the password, Thanks\")\n",
    "confam(pw,rp)        \n",
    "        "
   ]
  }
 ],
 "metadata": {
  "kernelspec": {
   "display_name": "Python 3",
   "language": "python",
   "name": "python3"
  },
  "language_info": {
   "codemirror_mode": {
    "name": "ipython",
    "version": 3
   },
   "file_extension": ".py",
   "mimetype": "text/x-python",
   "name": "python",
   "nbconvert_exporter": "python",
   "pygments_lexer": "ipython3",
   "version": "3.8.8"
  }
 },
 "nbformat": 4,
 "nbformat_minor": 5
}
